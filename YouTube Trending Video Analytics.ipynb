{
 "cells": [
  {
   "cell_type": "code",
   "execution_count": 20,
   "id": "8c5626a2-630b-4e5c-be6f-cf05a58fb474",
   "metadata": {},
   "outputs": [],
   "source": [
    "import pandas as pd\n",
    "import numpy as np\n",
    "import glob\n",
    "import re\n",
    "from textblob import TextBlob\n",
    "import matplotlib.pyplot as plt\n",
    "import seaborn as sns\n"
   ]
  },
  {
   "cell_type": "code",
   "execution_count": 22,
   "id": "2ee2880d-9738-44b4-8ef2-dc45219d99be",
   "metadata": {},
   "outputs": [],
   "source": [
    "\n",
    "def load_and_combine_data(path_pattern):\n",
    "    files = glob.glob(path_pattern)\n",
    "    dfs = []\n",
    "    for file in files:\n",
    "        df = pd.read_csv(file, encoding='latin1')  # fallback for encoding\n",
    "        df['region'] = file.split('/')[-1].split('_')[0]  # Extract country code\n",
    "        dfs.append(df)\n",
    "    combined_df = pd.concat(dfs, ignore_index=True)\n",
    "    return combined_df"
   ]
  },
  {
   "cell_type": "code",
   "execution_count": 24,
   "id": "e8d161f2-a07c-4723-abbf-385515a6f147",
   "metadata": {},
   "outputs": [
    {
     "name": "stderr",
     "output_type": "stream",
     "text": [
      "C:\\Users\\HP\\AppData\\Local\\Temp\\ipykernel_29292\\4259275234.py:5: DtypeWarning: Columns (13,24) have mixed types. Specify dtype option on import or set low_memory=False.\n",
      "  df = pd.read_csv(file, encoding='latin1')  # fallback for encoding\n"
     ]
    }
   ],
   "source": [
    "f = load_and_combine_data(r\"C:\\Users\\HP\\Favorites\\Downloads\\youtube_trending_videos_global.csv\")"
   ]
  },
  {
   "cell_type": "code",
   "execution_count": 25,
   "id": "c9f4382d-4c26-48cd-aee5-a1559a0afd90",
   "metadata": {},
   "outputs": [
    {
     "ename": "NameError",
     "evalue": "name 'df' is not defined",
     "output_type": "error",
     "traceback": [
      "\u001b[1;31m---------------------------------------------------------------------------\u001b[0m",
      "\u001b[1;31mNameError\u001b[0m                                 Traceback (most recent call last)",
      "Cell \u001b[1;32mIn[25], line 11\u001b[0m\n\u001b[0;32m      8\u001b[0m     df\u001b[38;5;241m.\u001b[39mdropna(subset\u001b[38;5;241m=\u001b[39m[\u001b[38;5;124m'\u001b[39m\u001b[38;5;124mvideo_id\u001b[39m\u001b[38;5;124m'\u001b[39m, \u001b[38;5;124m'\u001b[39m\u001b[38;5;124mtitle\u001b[39m\u001b[38;5;124m'\u001b[39m, \u001b[38;5;124m'\u001b[39m\u001b[38;5;124mcategory_id\u001b[39m\u001b[38;5;124m'\u001b[39m], inplace\u001b[38;5;241m=\u001b[39m\u001b[38;5;28;01mTrue\u001b[39;00m)\n\u001b[0;32m      9\u001b[0m     \u001b[38;5;28;01mreturn\u001b[39;00m df\n\u001b[1;32m---> 11\u001b[0m df \u001b[38;5;241m=\u001b[39m clean_data(df)\n",
      "\u001b[1;31mNameError\u001b[0m: name 'df' is not defined"
     ]
    }
   ],
   "source": [
    "# Step 2: Clean and Standardize Columns\n",
    "def clean_data(df):\n",
    "    df.columns = df.columns.str.lower().str.replace(' ', '_')\n",
    "    df['trending_date'] = pd.to_datetime(df['trending_date'], errors='coerce', format='%y.%d.%m')\n",
    "    df['publish_time'] = pd.to_datetime(df['publish_time'], errors='coerce')\n",
    "    df['title'] = df['title'].astype(str)\n",
    "    df['tags'] = df['tags'].astype(str).str.lower().str.replace('\"', '')\n",
    "    df.dropna(subset=['video_id', 'title', 'category_id'], inplace=True)\n",
    "    return df\n",
    "\n",
    "df = clean_data(df)"
   ]
  },
  {
   "cell_type": "code",
   "execution_count": null,
   "id": "45cde639-6066-43d9-b623-4974a0ee1ad0",
   "metadata": {},
   "outputs": [],
   "source": [
    "# Step 3: Sentiment Analysis on Titles and Tags\n",
    "def get_sentiment(text):\n",
    "    return TextBlob(text).sentiment.polarity\n",
    "\n",
    "df['title_sentiment'] = df['title'].apply(get_sentiment)\n",
    "df['tags_sentiment'] = df['tags'].apply(get_sentiment)"
   ]
  },
  {
   "cell_type": "code",
   "execution_count": null,
   "id": "32a02ea8-08b8-4747-926c-4a0bbc6353ba",
   "metadata": {},
   "outputs": [],
   "source": [
    "# Step 4: Prepare SQL-friendly CSV for Views per Category\n",
    "df_sql = df[['video_id', 'title', 'category_id', 'views', 'region']]\n",
    "df_sql.to_csv(\"youtube_sql_ready.csv\", index=False)"
   ]
  },
  {
   "cell_type": "code",
   "execution_count": null,
   "id": "f02f7271-4f42-4397-8d74-3971a99d342a",
   "metadata": {},
   "outputs": [],
   "source": [
    "# Step 5: Time-Series for Trending Duration\n",
    "trending_counts = df.groupby(['video_id', 'region'])['trending_date'].nunique().reset_index()\n",
    "trending_counts.columns = ['video_id', 'region', 'trending_days']\n"
   ]
  },
  {
   "cell_type": "code",
   "execution_count": null,
   "id": "cd2b9a99-1ae6-47cc-8c3d-51e40f97887f",
   "metadata": {},
   "outputs": [],
   "source": [
    "# Visualization Prep: Save region-wise trending duration\n",
    "trending_counts.to_csv(\"trending_duration_by_region.csv\", index=False)\n"
   ]
  },
  {
   "cell_type": "code",
   "execution_count": null,
   "id": "24c334d2-c4e3-4a94-a851-367f6f92c7f0",
   "metadata": {},
   "outputs": [],
   "source": [
    "# Optional Quick Plot for EDA\n",
    "plt.figure(figsize=(10, 6))\n",
    "sns.histplot(df['title_sentiment'], bins=30, kde=True)\n",
    "plt.title(\"Sentiment Distribution in Video Titles\")\n",
    "plt.xlabel(\"Sentiment Polarity\")\n",
    "plt.ylabel(\"Frequency\")\n",
    "plt.tight_layout()\n",
    "plt.savefig(\"title_sentiment_distribution.png\")\n",
    "plt.show()"
   ]
  },
  {
   "cell_type": "code",
   "execution_count": null,
   "id": "542fd11e-6561-4e00-b6b4-ebf92f5597e9",
   "metadata": {},
   "outputs": [],
   "source": []
  }
 ],
 "metadata": {
  "kernelspec": {
   "display_name": "Python [conda env:base] *",
   "language": "python",
   "name": "conda-base-py"
  },
  "language_info": {
   "codemirror_mode": {
    "name": "ipython",
    "version": 3
   },
   "file_extension": ".py",
   "mimetype": "text/x-python",
   "name": "python",
   "nbconvert_exporter": "python",
   "pygments_lexer": "ipython3",
   "version": "3.12.7"
  }
 },
 "nbformat": 4,
 "nbformat_minor": 5
}
